{
 "cells": [
  {
   "cell_type": "markdown",
   "metadata": {},
   "source": [
    "# Pipeline\n",
    "\n",
    "Today we will make a simple pipeline, and then run a Grid Search!\n",
    "\n",
    "Import packages and data:"
   ]
  },
  {
   "cell_type": "code",
   "execution_count": null,
   "metadata": {},
   "outputs": [],
   "source": [
    "import pandas as pd\n",
    "import numpy as np\n",
    "from sklearn.datasets import load_breast_cancer\n",
    "from sklearn.ensemble import RandomForestClassifier\n",
    "from sklearn.model_selection  import train_test_split, cross_val_score, GridSearchCV\n",
    "from sklearn.preprocessing import StandardScaler\n",
    "from sklearn.pipeline import make_pipeline\n",
    "import matplotlib.pyplot as plt\n",
    "\n",
    "data = load_breast_cancer()\n",
    "df = pd.DataFrame(data['data'],  columns =  data['feature_names'])\n",
    "df['target'] =  data['target']"
   ]
  },
  {
   "cell_type": "code",
   "execution_count": 1,
   "metadata": {},
   "outputs": [],
   "source": [
    "# __SOLUTION__\n",
    "import pandas as pd\n",
    "import numpy as np\n",
    "from sklearn.datasets import load_breast_cancer\n",
    "from sklearn.ensemble import RandomForestClassifier\n",
    "from sklearn.model_selection  import train_test_split, cross_val_score, GridSearchCV\n",
    "from sklearn.preprocessing import StandardScaler\n",
    "from sklearn.pipeline import make_pipeline\n",
    "import matplotlib.pyplot as plt\n",
    "\n",
    "data = load_breast_cancer()\n",
    "df = pd.DataFrame(data['data'],  columns =  data['feature_names'])\n",
    "df['target'] =  data['target']"
   ]
  },
  {
   "cell_type": "markdown",
   "metadata": {},
   "source": [
    "**Create a train test split of the dataset**\n",
    ">Set `random_state`  to 2020"
   ]
  },
  {
   "cell_type": "code",
   "execution_count": null,
   "metadata": {},
   "outputs": [],
   "source": [
    "X = df.drop('target', axis = 1)\n",
    "y = df.target\n",
    "X_train, X_test, y_train, y_test = train_test_split(X,y, random_state=2020)"
   ]
  },
  {
   "cell_type": "code",
   "execution_count": 2,
   "metadata": {},
   "outputs": [],
   "source": [
    "# __SOLUTION__\n",
    "X = df.drop('target', axis = 1)\n",
    "y = df.target\n",
    "X_train, X_test, y_train, y_test = train_test_split(X,y, random_state=2020)"
   ]
  },
  {
   "cell_type": "markdown",
   "metadata": {},
   "source": [
    "**Create a pipeline containing a StandardScaler object and RandomForestClassifier**"
   ]
  },
  {
   "cell_type": "code",
   "execution_count": null,
   "metadata": {},
   "outputs": [],
   "source": []
  },
  {
   "cell_type": "code",
   "execution_count": 3,
   "metadata": {},
   "outputs": [],
   "source": [
    "# __SOLUTION__\n",
    "pipeline = make_pipeline(StandardScaler(), RandomForestClassifier(random_state=2020))"
   ]
  },
  {
   "cell_type": "markdown",
   "metadata": {},
   "source": [
    "**Evaluate the pipeline**"
   ]
  },
  {
   "cell_type": "code",
   "execution_count": null,
   "metadata": {},
   "outputs": [],
   "source": []
  },
  {
   "cell_type": "code",
   "execution_count": 4,
   "metadata": {},
   "outputs": [
    {
     "data": {
      "text/plain": [
       "array([0.96511628, 0.97647059, 0.89411765, 0.95294118, 0.97647059])"
      ]
     },
     "execution_count": 4,
     "metadata": {},
     "output_type": "execute_result"
    }
   ],
   "source": [
    "# __SOLUTION__\n",
    "cross_val_score(pipeline, X_train, y_train)"
   ]
  },
  {
   "cell_type": "markdown",
   "metadata": {},
   "source": [
    "**Let's take a look at what parameters we can use in a grid search**\n",
    "\n",
    "Below, we use the `.get_params()` method to output all of the possible parameters in a pipeline."
   ]
  },
  {
   "cell_type": "code",
   "execution_count": null,
   "metadata": {},
   "outputs": [],
   "source": [
    "pipeline.get_params()"
   ]
  },
  {
   "cell_type": "code",
   "execution_count": 5,
   "metadata": {},
   "outputs": [
    {
     "data": {
      "text/plain": [
       "{'memory': None,\n",
       " 'steps': [('standardscaler', StandardScaler()),\n",
       "  ('randomforestclassifier', RandomForestClassifier(random_state=2020))],\n",
       " 'verbose': False,\n",
       " 'standardscaler': StandardScaler(),\n",
       " 'randomforestclassifier': RandomForestClassifier(random_state=2020),\n",
       " 'standardscaler__copy': True,\n",
       " 'standardscaler__with_mean': True,\n",
       " 'standardscaler__with_std': True,\n",
       " 'randomforestclassifier__bootstrap': True,\n",
       " 'randomforestclassifier__ccp_alpha': 0.0,\n",
       " 'randomforestclassifier__class_weight': None,\n",
       " 'randomforestclassifier__criterion': 'gini',\n",
       " 'randomforestclassifier__max_depth': None,\n",
       " 'randomforestclassifier__max_features': 'auto',\n",
       " 'randomforestclassifier__max_leaf_nodes': None,\n",
       " 'randomforestclassifier__max_samples': None,\n",
       " 'randomforestclassifier__min_impurity_decrease': 0.0,\n",
       " 'randomforestclassifier__min_impurity_split': None,\n",
       " 'randomforestclassifier__min_samples_leaf': 1,\n",
       " 'randomforestclassifier__min_samples_split': 2,\n",
       " 'randomforestclassifier__min_weight_fraction_leaf': 0.0,\n",
       " 'randomforestclassifier__n_estimators': 100,\n",
       " 'randomforestclassifier__n_jobs': None,\n",
       " 'randomforestclassifier__oob_score': False,\n",
       " 'randomforestclassifier__random_state': 2020,\n",
       " 'randomforestclassifier__verbose': 0,\n",
       " 'randomforestclassifier__warm_start': False}"
      ]
     },
     "execution_count": 5,
     "metadata": {},
     "output_type": "execute_result"
    }
   ],
   "source": [
    "# __SOLUTION__\n",
    "pipeline.get_params()"
   ]
  },
  {
   "cell_type": "markdown",
   "metadata": {},
   "source": [
    "The thing to focus on in the dictionary above are the words following the double underscore `__`. \n",
    "\n",
    "Those words are the *actual* name of the parameter which you can use to reference the model's documentation!\n",
    "\n",
    "Once we have selected parameters to tune, we can add them to a dictionary as keys, with a list of settings we would like to try as the values."
   ]
  },
  {
   "cell_type": "code",
   "execution_count": null,
   "metadata": {},
   "outputs": [],
   "source": [
    "params = {'randomforestclassifier__max_depth': [3,5,10],\n",
    "          'randomforestclassifier__max_features': [3,9,12,15],\n",
    "          'randomforestclassifier__min_samples_leaf': [2,5,10]}"
   ]
  },
  {
   "cell_type": "code",
   "execution_count": 6,
   "metadata": {},
   "outputs": [],
   "source": [
    "# __SOLUTION__\n",
    "params = {'randomforestclassifier__max_depth': [3,5,10],\n",
    "          'randomforestclassifier__max_features': [3,9,12,15],\n",
    "          'randomforestclassifier__min_samples_leaf': [2,5,10]}"
   ]
  },
  {
   "cell_type": "markdown",
   "metadata": {},
   "source": [
    "Now, we can feed in the pipeline and the parameters we'd like to search.\n",
    "\n",
    "Then we fit the gridsearch pipeline to the training data."
   ]
  },
  {
   "cell_type": "code",
   "execution_count": null,
   "metadata": {},
   "outputs": [],
   "source": [
    "grid_pipe = GridSearchCV(pipeline,params)\n",
    "grid_pipe.fit(X_train, y_train)"
   ]
  },
  {
   "cell_type": "code",
   "execution_count": 7,
   "metadata": {},
   "outputs": [
    {
     "data": {
      "text/plain": [
       "GridSearchCV(estimator=Pipeline(steps=[('standardscaler', StandardScaler()),\n",
       "                                       ('randomforestclassifier',\n",
       "                                        RandomForestClassifier(random_state=2020))]),\n",
       "             param_grid={'randomforestclassifier__max_depth': [3, 5, 10],\n",
       "                         'randomforestclassifier__max_features': [3, 9, 12, 15],\n",
       "                         'randomforestclassifier__min_samples_leaf': [2, 5,\n",
       "                                                                      10]})"
      ]
     },
     "execution_count": 7,
     "metadata": {},
     "output_type": "execute_result"
    }
   ],
   "source": [
    "# __SOLUTION__\n",
    "grid_pipe = GridSearchCV(pipeline,params)\n",
    "grid_pipe.fit(X_train, y_train)"
   ]
  },
  {
   "cell_type": "markdown",
   "metadata": {},
   "source": [
    "Once the grid search has completed, we can take a look at the best performing model!"
   ]
  },
  {
   "cell_type": "code",
   "execution_count": null,
   "metadata": {},
   "outputs": [],
   "source": [
    "grid_pipe.best_estimator_"
   ]
  },
  {
   "cell_type": "code",
   "execution_count": 8,
   "metadata": {},
   "outputs": [
    {
     "data": {
      "text/plain": [
       "Pipeline(steps=[('standardscaler', StandardScaler()),\n",
       "                ('randomforestclassifier',\n",
       "                 RandomForestClassifier(max_depth=10, max_features=3,\n",
       "                                        min_samples_leaf=2,\n",
       "                                        random_state=2020))])"
      ]
     },
     "execution_count": 8,
     "metadata": {},
     "output_type": "execute_result"
    }
   ],
   "source": [
    "# __SOLUTION__\n",
    "grid_pipe.best_estimator_"
   ]
  },
  {
   "cell_type": "markdown",
   "metadata": {},
   "source": [
    "We can save the best estimator to a variable and then evaluate like normal!"
   ]
  },
  {
   "cell_type": "code",
   "execution_count": null,
   "metadata": {},
   "outputs": [],
   "source": [
    "final_pipe = grid_pipe.best_estimator_"
   ]
  },
  {
   "cell_type": "code",
   "execution_count": 9,
   "metadata": {},
   "outputs": [],
   "source": [
    "# __SOLUTION__\n",
    "final_pipe = grid_pipe.best_estimator_"
   ]
  },
  {
   "cell_type": "code",
   "execution_count": null,
   "metadata": {},
   "outputs": [],
   "source": [
    "cross_val_score(final_pipe, X_train, y_train)"
   ]
  },
  {
   "cell_type": "code",
   "execution_count": 10,
   "metadata": {},
   "outputs": [
    {
     "data": {
      "text/plain": [
       "array([0.96511628, 0.97647059, 0.91764706, 0.95294118, 0.97647059])"
      ]
     },
     "execution_count": 10,
     "metadata": {},
     "output_type": "execute_result"
    }
   ],
   "source": [
    "# __SOLUTION__\n",
    "cross_val_score(final_pipe, X_train, y_train)"
   ]
  },
  {
   "cell_type": "markdown",
   "metadata": {},
   "source": [
    "**What do you think? Should we choose the first pipeline or the gridsearched pipeline?**\n",
    "\n",
    "After you have selected a final model, fit the model on all of the training data and evalutate the model's performance on the testing data."
   ]
  },
  {
   "cell_type": "code",
   "execution_count": null,
   "metadata": {},
   "outputs": [],
   "source": []
  },
  {
   "cell_type": "code",
   "execution_count": 11,
   "metadata": {},
   "outputs": [
    {
     "data": {
      "text/plain": [
       "Pipeline(steps=[('standardscaler', StandardScaler()),\n",
       "                ('randomforestclassifier',\n",
       "                 RandomForestClassifier(max_depth=10, max_features=3,\n",
       "                                        min_samples_leaf=2,\n",
       "                                        random_state=2020))])"
      ]
     },
     "execution_count": 11,
     "metadata": {},
     "output_type": "execute_result"
    }
   ],
   "source": [
    "# __SOLUTION__\n",
    "'''\n",
    "I choose the gridsearched pipeline because it performs slightly better than the first pipeline, \n",
    "and performs similarly across 5 fold validation.\n",
    "'''\n",
    "\n",
    "final_pipe.fit(X_train, y_train)"
   ]
  },
  {
   "cell_type": "code",
   "execution_count": null,
   "metadata": {},
   "outputs": [],
   "source": []
  },
  {
   "cell_type": "code",
   "execution_count": 12,
   "metadata": {},
   "outputs": [
    {
     "data": {
      "text/plain": [
       "0.965034965034965"
      ]
     },
     "execution_count": 12,
     "metadata": {},
     "output_type": "execute_result"
    }
   ],
   "source": [
    "# __SOLUTION__\n",
    "final_pipe.score(X_test, y_test)"
   ]
  },
  {
   "cell_type": "code",
   "execution_count": 13,
   "metadata": {},
   "outputs": [
    {
     "data": {
      "text/plain": [
       "'This random forest model performs with approximately 97% accuracy on out of sample data. \\nThis accuracy aligns with the average 5 fold cross validated score on in-sample data, and offers \\nsufficient evidence that this model is able to make accurate prediction on unseen data.'"
      ]
     },
     "execution_count": 13,
     "metadata": {},
     "output_type": "execute_result"
    }
   ],
   "source": [
    "# __SOLUTION__\n",
    "'''This random forest model performs with approximately 97% accuracy on out of sample data. \n",
    "This accuracy aligns with the average 5 fold cross validated score on in-sample data, and offers \n",
    "sufficient evidence that this model is able to make accurate prediction on unseen data.'''"
   ]
  },
  {
   "cell_type": "markdown",
   "metadata": {},
   "source": [
    "# Bootstrap Evaluation\n",
    "What if we wanted to infer the range for this model's average accuracy?\n",
    "\n",
    "We can do this via bootstrap resampling."
   ]
  },
  {
   "cell_type": "code",
   "execution_count": 14,
   "metadata": {},
   "outputs": [],
   "source": [
    "def bootstrap_model(model, X, y, iterations = 1000):\n",
    "    scores = []\n",
    "    for i in range(iterations):\n",
    "        # Collect a random sample of data with replacement\n",
    "        X_train = X.sample(n=len(X), replace=True)\n",
    "        # Collect the matching target labels for the randomly samples observations\n",
    "        y_train = y.loc[[x for x in X_train.index]]\n",
    "        # Create a testing set made up of observations that were not randomly sampled\n",
    "        X_test = X.loc[[x for x in X.index if x not in X_train.index]]\n",
    "        # Collect matching target labels\n",
    "        y_test = y.loc[[x for x in X_test.index]]\n",
    "        # Fit model on randomly sampled data\n",
    "        model.fit(X_train, y_train)\n",
    "        # Score fit model on out of sample data\n",
    "        score = model.score(X_test, y_test)\n",
    "        # Append scores to a list\n",
    "        scores.append(score)\n",
    "    \n",
    "    # We can use the empirical rule \n",
    "    # to identify the range of accuracy \n",
    "    # that contains 95% of the produced scores\n",
    "    confidence = 0.95\n",
    "    lower_percentile = ((1-confidence)/2) * 100\n",
    "    upper_percentile = (confidence+((1-confidence)/2)) * 100\n",
    "    lower = np.percentile(scores, lower_percentile)\n",
    "    upper = np.percentile(scores, upper_percentile)\n",
    "    plt.hist(scores)\n",
    "    # Create confidence interval title \n",
    "    ci = f'{int(confidence*100)}% Confidence Interval\\n\\\n",
    "    {np.round(lower, decimals=2)*100}% - {np.round(upper, decimals=2)*100}%'\n",
    "    plt.title(ci)\n",
    "    plt.show()\n",
    "    return confidence, lower, upper"
   ]
  },
  {
   "cell_type": "code",
   "execution_count": 15,
   "metadata": {},
   "outputs": [],
   "source": [
    "# __SOLUTION__\n",
    "def bootstrap_model(model, X, y, iterations = 1000):\n",
    "    scores = []\n",
    "    for i in range(iterations):\n",
    "        # Collect a random sample of data with replacement\n",
    "        X_train = X.sample(n=len(X), replace=True)\n",
    "        # Collect the matching target labels for the randomly samples observations\n",
    "        y_train = y.loc[[x for x in X_train.index]]\n",
    "        # Create a testing set made up of observations that were not randomly sampled\n",
    "        X_test = X.loc[[x for x in X.index if x not in X_train.index]]\n",
    "        # Collect matching target labels\n",
    "        y_test = y.loc[[x for x in X_test.index]]\n",
    "        # Fit model on randomly sampled data\n",
    "        model.fit(X_train, y_train)\n",
    "        # Score fit model on out of sample data\n",
    "        score = model.score(X_test, y_test)\n",
    "        # Append scores to a list\n",
    "        scores.append(score)\n",
    "    \n",
    "    # We can use the empirical rule \n",
    "    # to identify the range of accuracy \n",
    "    # that contains 95% of the produced scores\n",
    "    confidence = 0.95\n",
    "    lower_percentile = ((1-confidence)/2) * 100\n",
    "    upper_percentile = (confidence+((1-confidence)/2)) * 100\n",
    "    lower = np.percentile(scores, lower_percentile)\n",
    "    upper = np.percentile(scores, upper_percentile)\n",
    "    plt.hist(scores)\n",
    "    # Create confidence interval title \n",
    "    ci = f'{int(confidence*100)}% Confidence Interval\\n\\\n",
    "    {np.round(lower, decimals=2)*100}% - {np.round(upper, decimals=2)*100}%'\n",
    "    plt.title(ci)\n",
    "    plt.show()\n",
    "    return confidence, lower, upper"
   ]
  },
  {
   "cell_type": "code",
   "execution_count": 16,
   "metadata": {},
   "outputs": [
    {
     "data": {
      "image/png": "[encoded data removed]",
      "text/plain": [
       "<Figure size 432x288 with 1 Axes>"
      ]
     },
     "metadata": {
      "needs_background": "light"
     },
     "output_type": "display_data"
    }
   ],
   "source": [
    "# This code will take a while to run!\n",
    "alpha, lower, upper = bootstrap_model(final_pipe, X, y)"
   ]
  },
  {
   "cell_type": "code",
   "execution_count": 17,
   "metadata": {},
   "outputs": [
    {
     "data": {
      "image/png": "[encoded data removed]",
      "text/plain": [
       "<Figure size 432x288 with 1 Axes>"
      ]
     },
     "metadata": {
      "needs_background": "light"
     },
     "output_type": "display_data"
    }
   ],
   "source": [
    "# __SOLUTION__\n",
    "# This code willl take a while to run!\n",
    "alpha, lower, upper = bootstrap_model(final_pipe, X, y)"
   ]
  },
  {
   "cell_type": "code",
   "execution_count": null,
   "metadata": {},
   "outputs": [],
   "source": []
  }
 ],
 "metadata": {
  "kernelspec": {
   "display_name": "mlearn",
   "language": "python",
   "name": "mlearn"
  },
  "language_info": {
   "codemirror_mode": {
    "name": "ipython",
    "version": 3
   },
   "file_extension": ".py",
   "mimetype": "text/x-python",
   "name": "python",
   "nbconvert_exporter": "python",
   "pygments_lexer": "ipython3",
   "version": "3.7.7"
  }
 },
 "nbformat": 4,
 "nbformat_minor": 4
}
